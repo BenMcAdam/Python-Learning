x = y
y = 10.0
name = 'ben'
list_1 = [1,2,3,4,5,6]
dict_1 = {'Key 1':2,
        'Key 2':3}
z = x + name
print
