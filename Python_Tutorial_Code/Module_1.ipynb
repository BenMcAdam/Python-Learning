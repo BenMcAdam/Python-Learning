{
 "cells": [
  {
   "cell_type": "code",
   "execution_count": 142,
   "metadata": {},
   "outputs": [
    {
     "name": "stdout",
     "output_type": "stream",
     "text": [
      "25\n"
     ]
    }
   ],
   "source": [
    "x = 5\n",
    "y = 5\n",
    "z = 5 * 5\n",
    "print(z)\n",
    "\n"
   ]
  },
  {
   "cell_type": "code",
   "execution_count": 143,
   "metadata": {},
   "outputs": [
    {
     "name": "stdout",
     "output_type": "stream",
     "text": [
      "12.56\n"
     ]
    }
   ],
   "source": [
    "radius = 2\n",
    "PI = 3.14\n",
    "area = PI * radius ** 2\n",
    "print(area)"
   ]
  },
  {
   "cell_type": "code",
   "execution_count": 144,
   "metadata": {},
   "outputs": [
    {
     "name": "stdout",
     "output_type": "stream",
     "text": [
      "Ben Information Analyst\n",
      "my name is Ben and i am an Information Analyst .\n"
     ]
    }
   ],
   "source": [
    "name = \"Ben\"\n",
    "job = \"Information Analyst\"\n",
    "conc = name + \" \" + job\n",
    "print (conc)\n",
    "\n",
    "phrase = f\"my name is {name} and i am an {job} .\"\n",
    "print(phrase)"
   ]
  },
  {
   "cell_type": "code",
   "execution_count": 145,
   "metadata": {},
   "outputs": [
    {
     "name": "stdout",
     "output_type": "stream",
     "text": [
      "the rate of con plans per 10k kids is 129.03225806451613\n"
     ]
    }
   ],
   "source": [
    "cin_plans = 200\n",
    "total_pop = 15500\n",
    "RP10k = (cin_plans / total_pop)*10000\n",
    "ex = f\"the rate of con plans per 10k kids is {RP10k}\"\n",
    "print(ex)"
   ]
  },
  {
   "cell_type": "code",
   "execution_count": 146,
   "metadata": {},
   "outputs": [
    {
     "name": "stdout",
     "output_type": "stream",
     "text": [
      "c://desktop/data/309_header.csv\n",
      "p/data\n",
      ".csv\n",
      "39hae\n",
      "filename = 39hae\n"
     ]
    }
   ],
   "source": [
    "filename = \"c://desktop/data/309_header.csv\"\n",
    "print(filename)\n",
    "\n",
    "substring = filename[10:16]\n",
    "print(substring)\n",
    "\n",
    "substring2 = filename[-4:]\n",
    "print(substring2)\n",
    "\n",
    "substring3 = filename[17:-4:2]\n",
    "long = f'filename = {substring3}'\n",
    "print(substring3)\n",
    "print(long)\n",
    "\n"
   ]
  },
  {
   "cell_type": "code",
   "execution_count": 147,
   "metadata": {},
   "outputs": [
    {
     "name": "stdout",
     "output_type": "stream",
     "text": [
      "esarhp siht esrever\n"
     ]
    }
   ],
   "source": [
    "phrase = \"reverse this phrase\"\n",
    "reversed = phrase[-1::-1]\n",
    "print(reversed)"
   ]
  },
  {
   "cell_type": "code",
   "execution_count": 148,
   "metadata": {},
   "outputs": [
    {
     "name": "stdout",
     "output_type": "stream",
     "text": [
      "dog\n",
      "cat\n",
      "racoon\n"
     ]
    }
   ],
   "source": [
    "Slice_this_phrse = 'dog cat racoon'\n",
    "animal_1 = Slice_this_phrse [0:3]\n",
    "animal_2 = Slice_this_phrse [4:7]\n",
    "animal_3 =  Slice_this_phrse [8:]\n",
    "print(animal_1)\n",
    "print(animal_2)\n",
    "print(animal_3)"
   ]
  },
  {
   "cell_type": "code",
   "execution_count": 149,
   "metadata": {},
   "outputs": [
    {
     "name": "stdout",
     "output_type": "stream",
     "text": [
      "[1, 'reverse this phrase', 'filename = 39hae', 'hi']\n"
     ]
    }
   ],
   "source": [
    "list_1 = [1, phrase, long, \"hi\"]\n",
    "print(list_1)"
   ]
  },
  {
   "cell_type": "code",
   "execution_count": 150,
   "metadata": {},
   "outputs": [
    {
     "name": "stdout",
     "output_type": "stream",
     "text": [
      "['teal', 'orange']\n",
      "['red', 'blue', 'green', 'purple', ['teal', 'orange'], 'brown', 'gold', 'white']\n",
      "['red', 'blue', 'green', 'purple', ['teal', 'orange'], 'brown', 'gold', 'white', 'red']\n",
      "['blue', 'green', 'purple', ['teal', 'orange'], 'brown', 'gold', 'white', 'red']\n"
     ]
    }
   ],
   "source": [
    "colours = ['red', 'blue', 'green', 'purple']\n",
    "colours.append(['teal', 'orange'])\n",
    "print(colours[4])\n",
    "\n",
    "more_colours = [\"brown\",\"gold\",\"white\"]\n",
    "colours.extend(more_colours)\n",
    "print(colours)\n",
    "\n",
    "colours.append(\"red\")\n",
    "\n",
    "print(colours)\n",
    "\n",
    "colours.remove('red')\n",
    "print(colours)"
   ]
  },
  {
   "cell_type": "code",
   "execution_count": 151,
   "metadata": {},
   "outputs": [
    {
     "name": "stdout",
     "output_type": "stream",
     "text": [
      "10\n"
     ]
    }
   ],
   "source": [
    "x = 5\n",
    "x = 6\n",
    "x = 7\n",
    "x += 1\n",
    "x = 10\n",
    "print(x)"
   ]
  },
  {
   "cell_type": "code",
   "execution_count": 152,
   "metadata": {},
   "outputs": [],
   "source": [
    "my_strng = \"here's a string\""
   ]
  },
  {
   "cell_type": "code",
   "execution_count": 153,
   "metadata": {},
   "outputs": [
    {
     "name": "stdout",
     "output_type": "stream",
     "text": [
      "  ChildId  Age first contact Gender   Birthday CP Plan?  Age March 31   Age\n",
      "0     id1                  6      M 2002-01-01        Y          22.0  22.0\n",
      "1     id2                 12      m 2003-02-02        n          21.0  21.0\n",
      "2     id3                 11      F        NaT        N           NaN   NaN\n",
      "3     id4                  1        2023-03-03       No           1.0   1.0\n",
      "4     id5                 19      F 2012-01-06      yES          12.0  12.0\n"
     ]
    }
   ],
   "source": [
    "import pandas as pd \n",
    "\n",
    "df = pd.DataFrame({'ChildId':['id1', 'id2', 'id3', 'id4', 'id5'],\n",
    "                   'Age first contact':[6,12,11,1,19],\n",
    "                   'Gender':['M','m', 'F', '', 'F' ],\n",
    "                   'Birthday':['01/01/2002', '02/02/2003', pd.NA, '03/03/2023', '06/01/2012'],\n",
    "                   'CP Plan?':['Y', 'n', 'N', 'No', 'yES'],})\n",
    "\n",
    "df['Birthday'] = pd.to_datetime(df['Birthday'], format='%d/%m/%Y', errors='coerce')\n",
    "\n",
    "df['Age March 31'] = pd.to_datetime('31/03/2024', dayfirst=True) - df['Birthday']\n",
    "df['Age March 31'] = df['Age March 31'] / pd.Timedelta('365 days')\n",
    "df['Age March 31'] = df['Age March 31'].round().astype('int', errors='ignore')\n",
    "\n",
    "df['Age'] = pd.to_datetime('today').normalize() - df['Birthday']\n",
    "df['Age'] = df['Age'] / pd.Timedelta('365 days')\n",
    "df['Age'] = df['Age'].round().astype('int', errors='ignore')\n",
    "\n",
    "print(df)\n"
   ]
  },
  {
   "cell_type": "code",
   "execution_count": 154,
   "metadata": {},
   "outputs": [
    {
     "name": "stdout",
     "output_type": "stream",
     "text": [
      "  ChildId  Age first contact Gender   Birthday CP Plan?  Age March 31   Age\n",
      "0     id1                  6      M 2002-01-01        Y          22.0  22.0\n",
      "1     id2                 12      m 2003-02-02        n          21.0  21.0\n",
      "2     id3                 11      F        NaT        N           NaN   NaN\n",
      "3     id4                  1        2023-03-03       No           1.0   1.0\n",
      "4     id5                 19      F 2012-01-06      yES          12.0  12.0\n",
      "  ChildId  Age first contact Gender   Birthday CP Plan?  Age March 31   Age\n",
      "0     id1                  6      m 2002-01-01        Y          22.0  22.0\n",
      "1     id2                 12      m 2003-02-02        n          21.0  21.0\n",
      "2     id3                 11      f        NaT        N           NaN   NaN\n",
      "3     id4                  1   <NA> 2023-03-03       No           1.0   1.0\n",
      "4     id5                 19      f 2012-01-06      yES          12.0  12.0\n"
     ]
    }
   ],
   "source": [
    "gender_dict = {'M':'m',\n",
    "               'm':'m',\n",
    "               'F':'f',\n",
    "               'f':'f'}\n",
    "print(df)\n",
    "\n",
    "df['Gender'] = df['Gender'].str.lower()\n",
    "\n",
    "df['Gender'] = df['Gender'].replace(r'^\\s*$',pd.NA, regex=True)\n",
    "\n",
    "print(df)"
   ]
  },
  {
   "cell_type": "code",
   "execution_count": 155,
   "metadata": {},
   "outputs": [
    {
     "data": {
      "text/html": [
       "<div>\n",
       "<style scoped>\n",
       "    .dataframe tbody tr th:only-of-type {\n",
       "        vertical-align: middle;\n",
       "    }\n",
       "\n",
       "    .dataframe tbody tr th {\n",
       "        vertical-align: top;\n",
       "    }\n",
       "\n",
       "    .dataframe thead th {\n",
       "        text-align: right;\n",
       "    }\n",
       "</style>\n",
       "<table border=\"1\" class=\"dataframe\">\n",
       "  <thead>\n",
       "    <tr style=\"text-align: right;\">\n",
       "      <th></th>\n",
       "      <th>ChildId</th>\n",
       "      <th>Age first contact</th>\n",
       "      <th>Gender</th>\n",
       "      <th>Birthday</th>\n",
       "      <th>CP Plan?</th>\n",
       "      <th>Age March 31</th>\n",
       "      <th>Age</th>\n",
       "      <th>cp plan?</th>\n",
       "    </tr>\n",
       "  </thead>\n",
       "  <tbody>\n",
       "    <tr>\n",
       "      <th>0</th>\n",
       "      <td>id1</td>\n",
       "      <td>6</td>\n",
       "      <td>m</td>\n",
       "      <td>2002-01-01</td>\n",
       "      <td>Y</td>\n",
       "      <td>22.0</td>\n",
       "      <td>22.0</td>\n",
       "      <td>y</td>\n",
       "    </tr>\n",
       "    <tr>\n",
       "      <th>1</th>\n",
       "      <td>id2</td>\n",
       "      <td>12</td>\n",
       "      <td>m</td>\n",
       "      <td>2003-02-02</td>\n",
       "      <td>n</td>\n",
       "      <td>21.0</td>\n",
       "      <td>21.0</td>\n",
       "      <td>n</td>\n",
       "    </tr>\n",
       "    <tr>\n",
       "      <th>2</th>\n",
       "      <td>id3</td>\n",
       "      <td>11</td>\n",
       "      <td>f</td>\n",
       "      <td>NaT</td>\n",
       "      <td>N</td>\n",
       "      <td>NaN</td>\n",
       "      <td>NaN</td>\n",
       "      <td>n</td>\n",
       "    </tr>\n",
       "    <tr>\n",
       "      <th>3</th>\n",
       "      <td>id4</td>\n",
       "      <td>1</td>\n",
       "      <td>&lt;NA&gt;</td>\n",
       "      <td>2023-03-03</td>\n",
       "      <td>No</td>\n",
       "      <td>1.0</td>\n",
       "      <td>1.0</td>\n",
       "      <td>n</td>\n",
       "    </tr>\n",
       "    <tr>\n",
       "      <th>4</th>\n",
       "      <td>id5</td>\n",
       "      <td>19</td>\n",
       "      <td>f</td>\n",
       "      <td>2012-01-06</td>\n",
       "      <td>yES</td>\n",
       "      <td>12.0</td>\n",
       "      <td>12.0</td>\n",
       "      <td>y</td>\n",
       "    </tr>\n",
       "  </tbody>\n",
       "</table>\n",
       "</div>"
      ],
      "text/plain": [
       "  ChildId  Age first contact Gender   Birthday CP Plan?  Age March 31   Age  \\\n",
       "0     id1                  6      m 2002-01-01        Y          22.0  22.0   \n",
       "1     id2                 12      m 2003-02-02        n          21.0  21.0   \n",
       "2     id3                 11      f        NaT        N           NaN   NaN   \n",
       "3     id4                  1   <NA> 2023-03-03       No           1.0   1.0   \n",
       "4     id5                 19      f 2012-01-06      yES          12.0  12.0   \n",
       "\n",
       "  cp plan?  \n",
       "0        y  \n",
       "1        n  \n",
       "2        n  \n",
       "3        n  \n",
       "4        y  "
      ]
     },
     "execution_count": 155,
     "metadata": {},
     "output_type": "execute_result"
    }
   ],
   "source": [
    "cp_cleaner = lambda row: 'y' if 'y' in row else 'n' if 'n' in row  else pd.NA\n",
    "\n",
    "df['cp plan?'] = df['CP Plan?'].str.lower( ).apply(cp_cleaner)\n",
    "\n",
    "df"
   ]
  },
  {
   "cell_type": "code",
   "execution_count": 156,
   "metadata": {},
   "outputs": [
    {
     "data": {
      "text/html": [
       "<div>\n",
       "<style scoped>\n",
       "    .dataframe tbody tr th:only-of-type {\n",
       "        vertical-align: middle;\n",
       "    }\n",
       "\n",
       "    .dataframe tbody tr th {\n",
       "        vertical-align: top;\n",
       "    }\n",
       "\n",
       "    .dataframe thead th {\n",
       "        text-align: right;\n",
       "    }\n",
       "</style>\n",
       "<table border=\"1\" class=\"dataframe\">\n",
       "  <thead>\n",
       "    <tr style=\"text-align: right;\">\n",
       "      <th></th>\n",
       "      <th>ChildId</th>\n",
       "      <th>Age first contact</th>\n",
       "      <th>Gender</th>\n",
       "      <th>Birthday</th>\n",
       "      <th>CP Plan?</th>\n",
       "      <th>Age March 31</th>\n",
       "      <th>Age</th>\n",
       "      <th>cp plan?</th>\n",
       "      <th>NHS Number</th>\n",
       "    </tr>\n",
       "  </thead>\n",
       "  <tbody>\n",
       "    <tr>\n",
       "      <th>0</th>\n",
       "      <td>id1</td>\n",
       "      <td>6</td>\n",
       "      <td>m</td>\n",
       "      <td>2002-01-01</td>\n",
       "      <td>Y</td>\n",
       "      <td>22.0</td>\n",
       "      <td>22.0</td>\n",
       "      <td>y</td>\n",
       "      <td>NaN</td>\n",
       "    </tr>\n",
       "    <tr>\n",
       "      <th>1</th>\n",
       "      <td>id2</td>\n",
       "      <td>12</td>\n",
       "      <td>m</td>\n",
       "      <td>2003-02-02</td>\n",
       "      <td>n</td>\n",
       "      <td>21.0</td>\n",
       "      <td>21.0</td>\n",
       "      <td>n</td>\n",
       "      <td>NaN</td>\n",
       "    </tr>\n",
       "    <tr>\n",
       "      <th>2</th>\n",
       "      <td>id3</td>\n",
       "      <td>11</td>\n",
       "      <td>f</td>\n",
       "      <td>NaT</td>\n",
       "      <td>N</td>\n",
       "      <td>NaN</td>\n",
       "      <td>NaN</td>\n",
       "      <td>n</td>\n",
       "      <td>NaN</td>\n",
       "    </tr>\n",
       "    <tr>\n",
       "      <th>3</th>\n",
       "      <td>id4</td>\n",
       "      <td>1</td>\n",
       "      <td>&lt;NA&gt;</td>\n",
       "      <td>2023-03-03</td>\n",
       "      <td>No</td>\n",
       "      <td>1.0</td>\n",
       "      <td>1.0</td>\n",
       "      <td>n</td>\n",
       "      <td>NaN</td>\n",
       "    </tr>\n",
       "    <tr>\n",
       "      <th>4</th>\n",
       "      <td>id5</td>\n",
       "      <td>19</td>\n",
       "      <td>f</td>\n",
       "      <td>2012-01-06</td>\n",
       "      <td>yES</td>\n",
       "      <td>12.0</td>\n",
       "      <td>12.0</td>\n",
       "      <td>y</td>\n",
       "      <td>NaN</td>\n",
       "    </tr>\n",
       "    <tr>\n",
       "      <th>5</th>\n",
       "      <td>id6</td>\n",
       "      <td>9</td>\n",
       "      <td>m</td>\n",
       "      <td>2014-02-28</td>\n",
       "      <td>NaN</td>\n",
       "      <td>10.0</td>\n",
       "      <td>10.0</td>\n",
       "      <td>NaN</td>\n",
       "      <td>78132</td>\n",
       "    </tr>\n",
       "  </tbody>\n",
       "</table>\n",
       "</div>"
      ],
      "text/plain": [
       "  ChildId  Age first contact Gender   Birthday CP Plan?  Age March 31   Age  \\\n",
       "0     id1                  6      m 2002-01-01        Y          22.0  22.0   \n",
       "1     id2                 12      m 2003-02-02        n          21.0  21.0   \n",
       "2     id3                 11      f        NaT        N           NaN   NaN   \n",
       "3     id4                  1   <NA> 2023-03-03       No           1.0   1.0   \n",
       "4     id5                 19      f 2012-01-06      yES          12.0  12.0   \n",
       "5     id6                  9      m 2014-02-28      NaN          10.0  10.0   \n",
       "\n",
       "  cp plan? NHS Number  \n",
       "0        y        NaN  \n",
       "1        n        NaN  \n",
       "2        n        NaN  \n",
       "3        n        NaN  \n",
       "4        y        NaN  \n",
       "5      NaN      78132  "
      ]
     },
     "execution_count": 156,
     "metadata": {},
     "output_type": "execute_result"
    }
   ],
   "source": [
    "new_child = {\n",
    "    'ChildId':['id6'],\n",
    "    'Age': [10],\n",
    "    'Age first contact':[9],\n",
    "    'Gender':['m'],\n",
    "    'Birthday':[pd.to_datetime('28/02/2014', dayfirst=True)],\n",
    "    'Age March 31':[10],\n",
    "    'NHS Number':['78132']\n",
    "}\n",
    "\n",
    "new_child = pd.DataFrame(new_child)\n",
    "\n",
    "df = pd.concat([df, new_child],ignore_index=True)\n",
    "\n",
    "df.drop_duplicates(subset='ChildId', keep='last', inplace=True)\n",
    "\n",
    "df"
   ]
  },
  {
   "cell_type": "code",
   "execution_count": 157,
   "metadata": {},
   "outputs": [
    {
     "data": {
      "text/html": [
       "<div>\n",
       "<style scoped>\n",
       "    .dataframe tbody tr th:only-of-type {\n",
       "        vertical-align: middle;\n",
       "    }\n",
       "\n",
       "    .dataframe tbody tr th {\n",
       "        vertical-align: top;\n",
       "    }\n",
       "\n",
       "    .dataframe thead th {\n",
       "        text-align: right;\n",
       "    }\n",
       "</style>\n",
       "<table border=\"1\" class=\"dataframe\">\n",
       "  <thead>\n",
       "    <tr style=\"text-align: right;\">\n",
       "      <th></th>\n",
       "      <th>ChildId</th>\n",
       "      <th>Age first contact</th>\n",
       "      <th>Gender</th>\n",
       "      <th>Birthday</th>\n",
       "      <th>CP Plan?</th>\n",
       "      <th>Age March 31</th>\n",
       "      <th>Age</th>\n",
       "      <th>cp plan?</th>\n",
       "      <th>NHS Number_x</th>\n",
       "      <th>NHS Number_y</th>\n",
       "    </tr>\n",
       "  </thead>\n",
       "  <tbody>\n",
       "    <tr>\n",
       "      <th>0</th>\n",
       "      <td>id1</td>\n",
       "      <td>6</td>\n",
       "      <td>m</td>\n",
       "      <td>2002-01-01</td>\n",
       "      <td>Y</td>\n",
       "      <td>22.0</td>\n",
       "      <td>22.0</td>\n",
       "      <td>y</td>\n",
       "      <td>NaN</td>\n",
       "      <td>303</td>\n",
       "    </tr>\n",
       "    <tr>\n",
       "      <th>1</th>\n",
       "      <td>id2</td>\n",
       "      <td>12</td>\n",
       "      <td>m</td>\n",
       "      <td>2003-02-02</td>\n",
       "      <td>n</td>\n",
       "      <td>21.0</td>\n",
       "      <td>21.0</td>\n",
       "      <td>n</td>\n",
       "      <td>NaN</td>\n",
       "      <td>3u5029</td>\n",
       "    </tr>\n",
       "    <tr>\n",
       "      <th>2</th>\n",
       "      <td>id3</td>\n",
       "      <td>11</td>\n",
       "      <td>f</td>\n",
       "      <td>NaT</td>\n",
       "      <td>N</td>\n",
       "      <td>NaN</td>\n",
       "      <td>NaN</td>\n",
       "      <td>n</td>\n",
       "      <td>NaN</td>\n",
       "      <td>gqw3</td>\n",
       "    </tr>\n",
       "    <tr>\n",
       "      <th>3</th>\n",
       "      <td>id4</td>\n",
       "      <td>1</td>\n",
       "      <td>&lt;NA&gt;</td>\n",
       "      <td>2023-03-03</td>\n",
       "      <td>No</td>\n",
       "      <td>1.0</td>\n",
       "      <td>1.0</td>\n",
       "      <td>n</td>\n",
       "      <td>NaN</td>\n",
       "      <td>avsgvb</td>\n",
       "    </tr>\n",
       "    <tr>\n",
       "      <th>4</th>\n",
       "      <td>id5</td>\n",
       "      <td>19</td>\n",
       "      <td>f</td>\n",
       "      <td>2012-01-06</td>\n",
       "      <td>yES</td>\n",
       "      <td>12.0</td>\n",
       "      <td>12.0</td>\n",
       "      <td>y</td>\n",
       "      <td>NaN</td>\n",
       "      <td>varwvw</td>\n",
       "    </tr>\n",
       "  </tbody>\n",
       "</table>\n",
       "</div>"
      ],
      "text/plain": [
       "  ChildId  Age first contact Gender   Birthday CP Plan?  Age March 31   Age  \\\n",
       "0     id1                  6      m 2002-01-01        Y          22.0  22.0   \n",
       "1     id2                 12      m 2003-02-02        n          21.0  21.0   \n",
       "2     id3                 11      f        NaT        N           NaN   NaN   \n",
       "3     id4                  1   <NA> 2023-03-03       No           1.0   1.0   \n",
       "4     id5                 19      f 2012-01-06      yES          12.0  12.0   \n",
       "\n",
       "  cp plan? NHS Number_x NHS Number_y  \n",
       "0        y          NaN          303  \n",
       "1        n          NaN       3u5029  \n",
       "2        n          NaN         gqw3  \n",
       "3        n          NaN       avsgvb  \n",
       "4        y          NaN       varwvw  "
      ]
     },
     "execution_count": 157,
     "metadata": {},
     "output_type": "execute_result"
    }
   ],
   "source": [
    "nhs_numbers = pd.DataFrame([\n",
    "                            {'ChildId':'id1',\n",
    "                            'NHS Number': '303',},\n",
    "                            {'ChildId':'id2',\n",
    "                            'NHS Number': '3u5029',},\n",
    "                            {'ChildId':'id3',\n",
    "                            'NHS Number': 'gqw3',},\n",
    "                            {'ChildId':'id4',\n",
    "                            'NHS Number': 'avsgvb',},\n",
    "                            {'ChildId':'id5',\n",
    "                            'NHS Number': 'varwvw',},\n",
    "                             {'ChildId':'id7',\n",
    "                            'NHS Number': 'varwvw',},\n",
    "                            ])\n",
    "\n",
    "df = pd.merge(df, nhs_numbers, how='inner', left_on='ChildId',right_on='ChildId')\n",
    "\n",
    "df"
   ]
  }
 ],
 "metadata": {
  "kernelspec": {
   "display_name": "Python 3",
   "language": "python",
   "name": "python3"
  },
  "language_info": {
   "codemirror_mode": {
    "name": "ipython",
    "version": 3
   },
   "file_extension": ".py",
   "mimetype": "text/x-python",
   "name": "python",
   "nbconvert_exporter": "python",
   "pygments_lexer": "ipython3",
   "version": "3.10.13"
  }
 },
 "nbformat": 4,
 "nbformat_minor": 2
}
