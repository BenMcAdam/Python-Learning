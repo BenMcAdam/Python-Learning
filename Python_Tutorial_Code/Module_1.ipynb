{
 "cells": [
  {
   "cell_type": "code",
   "execution_count": 11,
   "metadata": {},
   "outputs": [
    {
     "name": "stdout",
     "output_type": "stream",
     "text": [
      "25\n"
     ]
    }
   ],
   "source": [
    "x = 5\n",
    "y = 5\n",
    "z = 5 * 5\n",
    "print(z)\n",
    "\n"
   ]
  },
  {
   "cell_type": "code",
   "execution_count": 13,
   "metadata": {},
   "outputs": [
    {
     "name": "stdout",
     "output_type": "stream",
     "text": [
      "12.56\n"
     ]
    }
   ],
   "source": [
    "radius = 2\n",
    "PI = 3.14\n",
    "area = PI * radius ** 2\n",
    "print(area)"
   ]
  },
  {
   "cell_type": "code",
   "execution_count": 21,
   "metadata": {},
   "outputs": [
    {
     "name": "stdout",
     "output_type": "stream",
     "text": [
      "Ben Information Analyst\n",
      "my name is Ben and i am an Information Analyst .\n"
     ]
    }
   ],
   "source": [
    "name = \"Ben\"\n",
    "job = \"Information Analyst\"\n",
    "conc = name + \" \" + job\n",
    "print (conc)\n",
    "\n",
    "phrase = f\"my name is {name} and i am an {job} .\"\n",
    "print(phrase)"
   ]
  },
  {
   "cell_type": "code",
   "execution_count": 23,
   "metadata": {},
   "outputs": [
    {
     "name": "stdout",
     "output_type": "stream",
     "text": [
      "the rate of con plans per 10k kids is 129.03225806451613\n"
     ]
    }
   ],
   "source": [
    "cin_plans = 200\n",
    "total_pop = 15500\n",
    "RP10k = (cin_plans / total_pop)*10000\n",
    "ex = f\"the rate of con plans per 10k kids is {RP10k}\"\n",
    "print(ex)"
   ]
  },
  {
   "cell_type": "code",
   "execution_count": 36,
   "metadata": {},
   "outputs": [
    {
     "name": "stdout",
     "output_type": "stream",
     "text": [
      "c://desktop/data/309_header.csv\n",
      "p/data\n",
      ".csv\n",
      "39hae\n",
      "filename = 39hae\n"
     ]
    }
   ],
   "source": [
    "filename = \"c://desktop/data/309_header.csv\"\n",
    "print(filename)\n",
    "\n",
    "substring = filename[10:16]\n",
    "print(substring)\n",
    "\n",
    "substring2 = filename[-4:]\n",
    "print(substring2)\n",
    "\n",
    "substring3 = filename[17:-4:2]\n",
    "long = f'filename = {substring3}'\n",
    "print(substring3)\n",
    "print(long)\n",
    "\n"
   ]
  },
  {
   "cell_type": "code",
   "execution_count": 37,
   "metadata": {},
   "outputs": [
    {
     "name": "stdout",
     "output_type": "stream",
     "text": [
      "esarhp siht esrever\n"
     ]
    }
   ],
   "source": [
    "phrase = \"reverse this phrase\"\n",
    "reversed = phrase[-1::-1]\n",
    "print(reversed)"
   ]
  },
  {
   "cell_type": "code",
   "execution_count": 41,
   "metadata": {},
   "outputs": [
    {
     "name": "stdout",
     "output_type": "stream",
     "text": [
      "dog\n",
      "cat\n",
      "racoon\n"
     ]
    }
   ],
   "source": [
    "Slice_this_phrse = 'dog cat racoon'\n",
    "animal_1 = Slice_this_phrse [0:3]\n",
    "animal_2 = Slice_this_phrse [4:7]\n",
    "animal_3 =  Slice_this_phrse [8:]\n",
    "print(animal_1)\n",
    "print(animal_2)\n",
    "print(animal_3)"
   ]
  },
  {
   "cell_type": "code",
   "execution_count": 52,
   "metadata": {},
   "outputs": [
    {
     "name": "stdout",
     "output_type": "stream",
     "text": [
      "[1, 'reverse this phrase', 'filename = 39hae', 'hi']\n"
     ]
    }
   ],
   "source": [
    "list_1 = [1, phrase, long, \"hi\"]\n",
    "print(list_1)"
   ]
  },
  {
   "cell_type": "code",
   "execution_count": 89,
   "metadata": {},
   "outputs": [
    {
     "name": "stdout",
     "output_type": "stream",
     "text": [
      "['teal', 'orange']\n",
      "['red', 'blue', 'green', 'purple', ['teal', 'orange'], 'brown', 'gold', 'white']\n",
      "['red', 'blue', 'green', 'purple', ['teal', 'orange'], 'brown', 'gold', 'white', 'red']\n",
      "['blue', 'green', 'purple', ['teal', 'orange'], 'brown', 'gold', 'white', 'red']\n"
     ]
    }
   ],
   "source": [
    "colours = ['red', 'blue', 'green', 'purple']\n",
    "colours.append(['teal', 'orange'])\n",
    "print(colours[4])\n",
    "\n",
    "more_colours = [\"brown\",\"gold\",\"white\"]\n",
    "colours.extend(more_colours)\n",
    "print(colours)\n",
    "\n",
    "colours.append(\"red\")\n",
    "\n",
    "print(colours)\n",
    "\n",
    "colours.remove('red')\n",
    "print(colours)"
   ]
  },
  {
   "cell_type": "code",
   "execution_count": 76,
   "metadata": {},
   "outputs": [
    {
     "name": "stdout",
     "output_type": "stream",
     "text": [
      "2\n"
     ]
    }
   ],
   "source": [
    "x = 5\n",
    "x = 6\n",
    "x = 7\n",
    "x += 1\n",
    "x = 2\n",
    "print(x)"
   ]
  },
  {
   "cell_type": "code",
   "execution_count": null,
   "metadata": {},
   "outputs": [],
   "source": [
    "my_strng = \"here's a string\""
   ]
  }
 ],
 "metadata": {
  "kernelspec": {
   "display_name": "Python 3",
   "language": "python",
   "name": "python3"
  },
  "language_info": {
   "codemirror_mode": {
    "name": "ipython",
    "version": 3
   },
   "file_extension": ".py",
   "mimetype": "text/x-python",
   "name": "python",
   "nbconvert_exporter": "python",
   "pygments_lexer": "ipython3",
   "version": "3.10.13"
  }
 },
 "nbformat": 4,
 "nbformat_minor": 2
}
