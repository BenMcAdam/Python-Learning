{
 "cells": [
  {
   "cell_type": "code",
   "execution_count": 5,
   "metadata": {},
   "outputs": [
    {
     "name": "stdout",
     "output_type": "stream",
     "text": [
      "10\n"
     ]
    }
   ],
   "source": [
    "def sum_function(number_1, number_2):\n",
    "    outcome = number_1 + number_2\n",
    "    return outcome\n",
    "print(sum_function(2, 3))"
   ]
  },
  {
   "cell_type": "code",
   "execution_count": 10,
   "metadata": {},
   "outputs": [
    {
     "name": "stdout",
     "output_type": "stream",
     "text": [
      "5\n"
     ]
    }
   ],
   "source": [
    "def div_function(number_1, number_2):\n",
    "    outcome = number_1 / number_2\n",
    "    outcome = int(outcome)\n",
    "    return outcome\n",
    "print(div_function(10,2))"
   ]
  },
  {
   "cell_type": "code",
   "execution_count": 16,
   "metadata": {},
   "outputs": [
    {
     "name": "stdout",
     "output_type": "stream",
     "text": [
      "good work\n"
     ]
    }
   ],
   "source": [
    "def add_words(w1, w2):\n",
    "    outcome = w1 + \" \" + w2\n",
    "    return(outcome)\n",
    "new_word = add_words(\"good\", \"work\")\n",
    "print(new_word)"
   ]
  },
  {
   "cell_type": "code",
   "execution_count": 20,
   "metadata": {},
   "outputs": [
    {
     "name": "stdout",
     "output_type": "stream",
     "text": [
      "6\n",
      "7\n",
      "7\n",
      "6\n"
     ]
    }
   ],
   "source": [
    "def sum_prod(x, y):\n",
    "    print(x)\n",
    "    print(y)\n",
    "\n",
    "sum_prod(6, 7)\n",
    "sum_prod(y=6, x=7)"
   ]
  },
  {
   "cell_type": "code",
   "execution_count": 31,
   "metadata": {},
   "outputs": [
    {
     "name": "stdout",
     "output_type": "stream",
     "text": [
      "the sum of 7 and 6 is 13, the product of 7 and 6 is 42\n"
     ]
    }
   ],
   "source": [
    "def sum_prod(x, y):\n",
    "    sum_xy = x + y\n",
    "    prod_xy = x * y\n",
    "    return sum_xy, prod_xy\n",
    "j, k = sum_prod(x=7, y=6)\n",
    "phrase = f'the sum of 7 and 6 is {j}, the product of 7 and 6 is {k}'\n",
    "print(phrase)"
   ]
  },
  {
   "cell_type": "code",
   "execution_count": 38,
   "metadata": {},
   "outputs": [
    {
     "name": "stdout",
     "output_type": "stream",
     "text": [
      "95\n",
      "20.0\n"
     ]
    }
   ],
   "source": [
    "def minus_divide(x, y):\n",
    "    minus_xy = x - y\n",
    "    divide_xy = x / y\n",
    "    return minus_xy, divide_xy\n",
    "j, k = minus_divide(100, 5)\n",
    "print(j)\n",
    "print(k)"
   ]
  },
  {
   "cell_type": "code",
   "execution_count": 39,
   "metadata": {},
   "outputs": [
    {
     "name": "stdout",
     "output_type": "stream",
     "text": [
      "abc\n"
     ]
    }
   ],
   "source": [
    "word_1 = \"apple\"\n",
    "\n",
    "def words(a, b, c):\n",
    "    big_word = a + b + c\n",
    "    print(big_word)\n",
    "words(\"a\", \"b\", \"c\")"
   ]
  },
  {
   "cell_type": "code",
   "execution_count": 41,
   "metadata": {},
   "outputs": [
    {
     "name": "stdout",
     "output_type": "stream",
     "text": [
      "95 20.0\n",
      "1 20.0\n"
     ]
    }
   ],
   "source": [
    "x, y = sum_prod(100, 5)\n",
    "i, j = minus_divide(100, 5)\n",
    "print(x,y)\n",
    "print(1, j)\n"
   ]
  },
  {
   "cell_type": "code",
   "execution_count": 44,
   "metadata": {},
   "outputs": [
    {
     "name": "stdout",
     "output_type": "stream",
     "text": [
      "95\n",
      "20.0\n",
      "95\n",
      "20.0\n"
     ]
    }
   ],
   "source": [
    "def mega_fn(x, y):\n",
    "    outcome_1, outcome_2 = sum_prod(x, y)\n",
    "    outcome_3, outcome4, = minus_divide (x, y)\n",
    "    return outcome_1, outcome_2, outcome_3, outcome4\n",
    "\n",
    "q, w, e, r = mega_fn(100, 5)\n",
    "print(q)\n",
    "print(w)\n",
    "print(e)\n",
    "print(r)"
   ]
  },
  {
   "cell_type": "code",
   "execution_count": 75,
   "metadata": {},
   "outputs": [
    {
     "name": "stdout",
     "output_type": "stream",
     "text": [
      "No\n"
     ]
    }
   ],
   "source": [
    "x = 10\n",
    "def number_check(number):\n",
    "    if x < 9:\n",
    "        print(\"Yes\")\n",
    "    else:\n",
    "        print(\"No\")\n",
    "number_check(x)"
   ]
  },
  {
   "cell_type": "code",
   "execution_count": 47,
   "metadata": {},
   "outputs": [
    {
     "name": "stderr",
     "output_type": "stream",
     "text": [
      "/tmp/ipykernel_6651/4080736814.py:1: DeprecationWarning: \n",
      "Pyarrow will become a required dependency of pandas in the next major release of pandas (pandas 3.0),\n",
      "(to allow more performant data types, such as the Arrow string type, and better interoperability with other libraries)\n",
      "but was not found to be installed on your system.\n",
      "If this would cause problems for you,\n",
      "please provide us feedback at https://github.com/pandas-dev/pandas/issues/54466\n",
      "        \n",
      "  import pandas as pd\n"
     ]
    }
   ],
   "source": [
    "import pandas as pd"
   ]
  },
  {
   "cell_type": "code",
   "execution_count": 60,
   "metadata": {},
   "outputs": [
    {
     "name": "stdout",
     "output_type": "stream",
     "text": [
      "             Name   Period  House price index All property types  \\\n",
      "0  United Kingdom  1980-01                                 10.11   \n",
      "1  United Kingdom  1980-02                                 10.11   \n",
      "2  United Kingdom  1980-03                                 10.11   \n",
      "3  United Kingdom  1980-04                                 10.51   \n",
      "4  United Kingdom  1980-05                                 10.51   \n",
      "\n",
      "   Average price All property types  \\\n",
      "0                             19273   \n",
      "1                             19273   \n",
      "2                             19273   \n",
      "3                             20044   \n",
      "4                             20044   \n",
      "\n",
      "   Percentage change (monthly) All property types  \\\n",
      "0                                            3.94   \n",
      "1                                            3.94   \n",
      "2                                            3.94   \n",
      "3                                            4.00   \n",
      "4                                            4.00   \n",
      "\n",
      "   Percentage change (yearly) All property types  \n",
      "0                                          28.59  \n",
      "1                                          28.59  \n",
      "2                                          28.59  \n",
      "3                                          24.15  \n",
      "4                                          24.15  \n"
     ]
    }
   ],
   "source": [
    "df = pd.read_csv('https://raw.githubusercontent.com/data-to-insight/ERN-sessions/main/data/1980%202023%20average%20house%20prices.csv')\n",
    "print(df.head())"
   ]
  },
  {
   "cell_type": "code",
   "execution_count": 61,
   "metadata": {},
   "outputs": [],
   "source": [
    "df = pd.DataFrame({'ChildId':['id1', 'id2', 'id3', 'id4', 'id5'],\n",
    "                   'Age first contact':[6,12,11,1,19],\n",
    "                   'Gender':['M','m', 'F', '', 'F' ],\n",
    "                   'Birthday':['01/01/2002', '02/02/2003', pd.NA, '03/03/2023', '06/01/2012'],\n",
    "                   'CP Plan?':['Y', 'n', 'N', 'No', 'yES'],})"
   ]
  },
  {
   "cell_type": "code",
   "execution_count": 62,
   "metadata": {},
   "outputs": [
    {
     "name": "stdout",
     "output_type": "stream",
     "text": [
      "0      Y\n",
      "4    yES\n",
      "Name: CP Plan?, dtype: object\n"
     ]
    }
   ],
   "source": [
    "def cp_checker(row):\n",
    "    if \"y\" in row.lower():\n",
    "        return \"YES\"\n",
    "    else:\n",
    "        return \"NO\"\n",
    "df['CP Plan? clean'] = df['CP Plan?'].apply(cp_checker)\n",
    "print(df[\"CP Plan?\"][df[\"CP Plan?\"].str.lower().str.contains(\"y\")])"
   ]
  },
  {
   "cell_type": "code",
   "execution_count": 66,
   "metadata": {},
   "outputs": [
    {
     "name": "stdout",
     "output_type": "stream",
     "text": [
      "Over 10\n"
     ]
    }
   ],
   "source": [
    "x = 11\n",
    "def task(number):\n",
    "    if x < 10:\n",
    "        print(\"Under 10\")\n",
    "    else:\n",
    "        print(\"Over 10\")\n",
    "task(x)"
   ]
  },
  {
   "cell_type": "code",
   "execution_count": 74,
   "metadata": {},
   "outputs": [
    {
     "name": "stdout",
     "output_type": "stream",
     "text": [
      "  ChildId  Age first contact Gender    Birthday CP Plan? CP Plan? clean  \\\n",
      "0     id1                  6      M  01/01/2002        Y            YES   \n",
      "1     id2                 12      m  02/02/2003        n             NO   \n",
      "2     id3                 11      F        <NA>        N             NO   \n",
      "3     id4                  1         03/03/2023       No             NO   \n",
      "4     id5                 19      F  06/01/2012      yES            YES   \n",
      "\n",
      "  contact after 10  \n",
      "0         under 10  \n",
      "1          over 10  \n",
      "2          over 10  \n",
      "3         under 10  \n",
      "4          over 10  \n"
     ]
    }
   ],
   "source": [
    "def contact_check(age):\n",
    "    if age >=10:\n",
    "        return 'over 10'\n",
    "    else:\n",
    "        return 'under 10'\n",
    "\n",
    "df['contact after 10'] = df['Age first contact'].apply(contact_check)\n",
    "\n",
    "print(df)"
   ]
  },
  {
   "cell_type": "code",
   "execution_count": null,
   "metadata": {},
   "outputs": [],
   "source": []
  }
 ],
 "metadata": {
  "kernelspec": {
   "display_name": "Python 3",
   "language": "python",
   "name": "python3"
  },
  "language_info": {
   "codemirror_mode": {
    "name": "ipython",
    "version": 3
   },
   "file_extension": ".py",
   "mimetype": "text/x-python",
   "name": "python",
   "nbconvert_exporter": "python",
   "pygments_lexer": "ipython3",
   "version": "3.undefined.undefined"
  }
 },
 "nbformat": 4,
 "nbformat_minor": 2
}
