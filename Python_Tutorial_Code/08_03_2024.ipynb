{
 "cells": [
  {
   "cell_type": "code",
   "execution_count": 5,
   "metadata": {},
   "outputs": [
    {
     "name": "stdout",
     "output_type": "stream",
     "text": [
      "1\n",
      "2\n",
      "3\n",
      "4\n",
      "5\n",
      "6\n",
      "7\n",
      "8\n",
      "9\n",
      "10\n"
     ]
    }
   ],
   "source": [
    "numbers = list(range(1, 11))\n",
    "\n",
    "for number in numbers:\n",
    "    print(number)\n",
    "    \n"
   ]
  },
  {
   "cell_type": "code",
   "execution_count": 10,
   "metadata": {},
   "outputs": [
    {
     "name": "stdout",
     "output_type": "stream",
     "text": [
      "a\n",
      "b\n",
      "c\n",
      "d\n"
     ]
    }
   ],
   "source": [
    "alphabet = [\"a\",\"b\", \"c\", \"d\"]\n",
    "\n",
    "for letters in alphabet:\n",
    "    print(letters)"
   ]
  },
  {
   "cell_type": "code",
   "execution_count": 11,
   "metadata": {},
   "outputs": [
    {
     "name": "stdout",
     "output_type": "stream",
     "text": [
      "a\n",
      "b\n",
      "c\n",
      "d\n",
      "e\n",
      "f\n",
      "g\n",
      "h\n",
      "i\n",
      "j\n",
      "k\n"
     ]
    }
   ],
   "source": [
    "word = 'abcdefghijk'\n",
    "\n",
    "for charachter in word:\n",
    "    print(charachter)\n"
   ]
  },
  {
   "cell_type": "code",
   "execution_count": 16,
   "metadata": {},
   "outputs": [
    {
     "name": "stdout",
     "output_type": "stream",
     "text": [
      "100\n"
     ]
    }
   ],
   "source": [
    "for number_a in numbers:\n",
    "    for number_b in numbers:\n",
    "        x = number_a * number_b\n",
    "print(x)\n",
    "\n",
    "        ##print(number_a)\n",
    "        ##print(number_b)\n",
    "       # #if number_a == 10:\n",
    "       #  #   break\n",
    "   ## print(1*number)\n",
    "   ## print(2*number)"
   ]
  },
  {
   "cell_type": "code",
   "execution_count": 19,
   "metadata": {},
   "outputs": [
    {
     "name": "stdout",
     "output_type": "stream",
     "text": [
      "['1a', '1b', '1c', '2a', '2b', '2c', '3a', '3b', '3c', '4a', '4b', '4c', '5a', '5b', '5c']\n"
     ]
    }
   ],
   "source": [
    "numbers = [1, 2, 3, 4, 5]\n",
    "letters = ['a','b','c']\n",
    "\n",
    "letters_numbers = []\n",
    "\n",
    "for number in numbers:\n",
    "    for letter in letters:\n",
    "        letters_numbers.append(f'{number}{letter}')\n",
    "\n",
    "print(letters_numbers)"
   ]
  },
  {
   "cell_type": "code",
   "execution_count": 28,
   "metadata": {},
   "outputs": [
    {
     "name": "stdout",
     "output_type": "stream",
     "text": [
      "['butter & ham', 'butter & cheese', 'butter & sardines', 'jam & ham', 'jam & cheese', 'jam & sardines', 'peanut butter & ham', 'peanut butter & cheese', 'peanut butter & sardines']\n"
     ]
    }
   ],
   "source": [
    "spreads = ['butter & ', 'jam & ', 'peanut butter & ']\n",
    "toppings = ['ham', 'cheese', 'sardines']\n",
    "\n",
    "spreads_toppings = []\n",
    "\n",
    "for spread in spreads:\n",
    "    for topping in toppings:\n",
    "        spreads_toppings.append(f'{spread}{topping}')\n",
    "\n",
    "print(spreads_toppings)\n",
    "\n"
   ]
  },
  {
   "cell_type": "code",
   "execution_count": 37,
   "metadata": {},
   "outputs": [
    {
     "name": "stdout",
     "output_type": "stream",
     "text": [
      "the key is key 1, the value is 1\n",
      "the key is key 2, the value is 2\n",
      "the key is key 3, the value is 3\n"
     ]
    }
   ],
   "source": [
    "dict_1 = {'key 1':1,\n",
    "          'key 2':2,\n",
    "          'key 3':3}\n",
    "\n",
    "##print(dict_1.items())\n",
    "\n",
    "for key, value in dict_1.items():\n",
    "    print(f'the key is {key}, the value is {value}')"
   ]
  },
  {
   "cell_type": "code",
   "execution_count": 49,
   "metadata": {},
   "outputs": [
    {
     "name": "stdout",
     "output_type": "stream",
     "text": [
      "the restaurant is kfc, the food sold is chicken\n",
      "the restaurant is pizza hut, the food sold is pizza\n",
      "the restaurant is chippy, the food sold is fish and chips\n"
     ]
    }
   ],
   "source": [
    "# KFC SELLS CHICKEN\n",
    "\n",
    "dict_food = {'kfc':'chicken',\n",
    "          'pizza hut':'pizza',\n",
    "          'chippy':'fish and chips'}\n",
    "for a, b in dict_food.items():\n",
    "    print(f'the restaurant is {a}, the food sold is {b}')"
   ]
  }
 ],
 "metadata": {
  "kernelspec": {
   "display_name": "Python 3",
   "language": "python",
   "name": "python3"
  },
  "language_info": {
   "codemirror_mode": {
    "name": "ipython",
    "version": 3
   },
   "file_extension": ".py",
   "mimetype": "text/x-python",
   "name": "python",
   "nbconvert_exporter": "python",
   "pygments_lexer": "ipython3",
   "version": "3.10.13"
  }
 },
 "nbformat": 4,
 "nbformat_minor": 2
}
